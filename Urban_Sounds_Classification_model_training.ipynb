{
  "cells": [
    {
      "cell_type": "markdown",
      "metadata": {
        "colab_type": "text",
        "id": "view-in-github"
      },
      "source": [
        "<a href=\"https://colab.research.google.com/github/alikrc/urban-sounds-classification/blob/main/Urban_Sounds_Classification_model_training.ipynb\" target=\"_parent\"><img src=\"https://colab.research.google.com/assets/colab-badge.svg\" alt=\"Open In Colab\"/></a>"
      ]
    },
    {
      "cell_type": "code",
      "execution_count": 1,
      "metadata": {
        "id": "UzyUNUHIYzaU"
      },
      "outputs": [],
      "source": [
        "from cv2 import imshow\n",
        "import tensorflow as tf\n",
        "import cv2 \n",
        "import glob\n",
        "# from PIL import Image\n",
        "import pandas as pd\n",
        "import numpy as np\n",
        "import math\n",
        "import sklearn\n",
        "import sklearn.model_selection as ms\n",
        "from google.colab.patches import cv2_imshow\n",
        "from tensorflow import keras\n",
        "from tensorflow.keras import layers\n",
        "import matplotlib.pyplot as plt"
      ]
    },
    {
      "cell_type": "code",
      "execution_count": 2,
      "metadata": {
        "colab": {
          "base_uri": "https://localhost:8080/"
        },
        "id": "gIyjY8oVqgcx",
        "outputId": "b5c35c74-1172-41fe-f8fc-270d4f557952"
      },
      "outputs": [
        {
          "name": "stdout",
          "output_type": "stream",
          "text": [
            "Mounted at /content/drive\n"
          ]
        }
      ],
      "source": [
        "from google.colab import drive\n",
        "drive.mount('/content/drive')"
      ]
    },
    {
      "cell_type": "code",
      "execution_count": 3,
      "metadata": {
        "colab": {
          "base_uri": "https://localhost:8080/",
          "height": 81
        },
        "id": "JZ_4Z8HG9dNi",
        "outputId": "c30ed9ca-4510-484f-be0b-a0944b54f6ca"
      },
      "outputs": [
        {
          "data": {
            "image/png": "[encoded data removed]",
            "text/plain": [
              "<PIL.Image.Image image mode=L size=64x64 at 0x7FEE4DA90E10>"
            ]
          },
          "metadata": {},
          "output_type": "display_data"
        }
      ],
      "source": [
        "base_path = '/content/drive/MyDrive/soundsClassification/'\n",
        "\n",
        "x_train=np.load(base_path+'x_train.npy')\n",
        "y_train=np.load(base_path+'y_train.npy')\n",
        "x_val=np.load(base_path+'x_val.npy')\n",
        "y_val=np.load(base_path+'y_val.npy')\n",
        "x_test=np.load(base_path+'x_test.npy')\n",
        "y_test=np.load(base_path+'y_test.npy')\n",
        "\n",
        "cv2_imshow(x_train[0])"
      ]
    },
    {
      "cell_type": "code",
      "execution_count": 4,
      "metadata": {
        "colab": {
          "base_uri": "https://localhost:8080/"
        },
        "id": "Ys6J47A90bD1",
        "outputId": "de92c695-7b46-48d2-bf51-449292aef40b"
      },
      "outputs": [
        {
          "data": {
            "text/plain": [
              "((5238, 64, 64), (5238,))"
            ]
          },
          "execution_count": 4,
          "metadata": {},
          "output_type": "execute_result"
        }
      ],
      "source": [
        "np.shape(x_train), np.shape(y_train)"
      ]
    },
    {
      "cell_type": "code",
      "execution_count": 5,
      "metadata": {
        "colab": {
          "base_uri": "https://localhost:8080/"
        },
        "id": "Ge2HkQ7M1GS2",
        "outputId": "e8f8f723-4614-4d82-ba66-116cf9f901ff"
      },
      "outputs": [
        {
          "data": {
            "text/plain": [
              "((1747, 64, 64), (1747,))"
            ]
          },
          "execution_count": 5,
          "metadata": {},
          "output_type": "execute_result"
        }
      ],
      "source": [
        "np.shape(x_val), np.shape(y_val)"
      ]
    },
    {
      "cell_type": "code",
      "execution_count": 6,
      "metadata": {
        "colab": {
          "base_uri": "https://localhost:8080/"
        },
        "id": "-Kag-rPw1GKW",
        "outputId": "9126240d-2f8c-4036-acd0-b17bcddb7430"
      },
      "outputs": [
        {
          "data": {
            "text/plain": [
              "((1747, 64, 64), (1747,))"
            ]
          },
          "execution_count": 6,
          "metadata": {},
          "output_type": "execute_result"
        }
      ],
      "source": [
        "np.shape(x_test), np.shape(y_test)"
      ]
    },
    {
      "cell_type": "code",
      "execution_count": 7,
      "metadata": {
        "colab": {
          "base_uri": "https://localhost:8080/"
        },
        "id": "DmtEoVhq2_JH",
        "outputId": "17505e83-22f7-48aa-c053-3cf104728bdb"
      },
      "outputs": [
        {
          "name": "stdout",
          "output_type": "stream",
          "text": [
            "Model: \"sequential\"\n",
            "_________________________________________________________________\n",
            " Layer (type)                Output Shape              Param #   \n",
            "=================================================================\n",
            " conv2d (Conv2D)             (None, 32, 32, 6)         60        \n",
            "                                                                 \n",
            " average_pooling2d (AverageP  (None, 16, 16, 6)        0         \n",
            " ooling2D)                                                       \n",
            "                                                                 \n",
            " conv2d_1 (Conv2D)           (None, 8, 8, 16)          880       \n",
            "                                                                 \n",
            " average_pooling2d_1 (Averag  (None, 4, 4, 16)         0         \n",
            " ePooling2D)                                                     \n",
            "                                                                 \n",
            " flatten (Flatten)           (None, 256)               0         \n",
            "                                                                 \n",
            " dense (Dense)               (None, 120)               30840     \n",
            "                                                                 \n",
            " dropout (Dropout)           (None, 120)               0         \n",
            "                                                                 \n",
            " dense_1 (Dense)             (None, 84)                10164     \n",
            "                                                                 \n",
            " dropout_1 (Dropout)         (None, 84)                0         \n",
            "                                                                 \n",
            " dense_2 (Dense)             (None, 10)                850       \n",
            "                                                                 \n",
            "=================================================================\n",
            "Total params: 42,794\n",
            "Trainable params: 42,794\n",
            "Non-trainable params: 0\n",
            "_________________________________________________________________\n"
          ]
        }
      ],
      "source": [
        "input_shape = 64\n",
        "model = keras.Sequential(\n",
        "    [\n",
        "        layers.Conv2D(6, kernel_size=(3, 3), strides=(2, 2), padding=\"same\", activation=\"relu\", input_shape=(input_shape, input_shape, 1)),\n",
        "        layers.AveragePooling2D(pool_size=(2, 2), strides=(2, 2),padding=\"valid\"),\n",
        "\n",
        "\n",
        "        layers.Conv2D(16, kernel_size=(3, 3), strides=(2, 2), padding=\"same\", activation=\"relu\"),\n",
        "        layers.AveragePooling2D(pool_size=(2, 2), strides=(2, 2), padding=\"valid\"),\n",
        "\n",
        "\n",
        "        layers.Flatten(),\n",
        "        layers.Dense(120, activation='relu'),\n",
        "        layers.Dropout(0.4),\n",
        "        layers.Dense(84, activation='relu'),\n",
        "        layers.Dropout(0.3),\n",
        "        layers.Dense(10, activation='softmax'),\n",
        "    ]\n",
        ")\n",
        "model.summary()"
      ]
    },
    {
      "cell_type": "code",
      "execution_count": 8,
      "metadata": {
        "colab": {
          "base_uri": "https://localhost:8080/"
        },
        "id": "pAGDngbG8o2j",
        "outputId": "427e0ac2-2201-451b-b6d7-30cf25e5a07c"
      },
      "outputs": [
        {
          "name": "stdout",
          "output_type": "stream",
          "text": [
            "Epoch 1/23\n"
          ]
        },
        {
          "name": "stderr",
          "output_type": "stream",
          "text": [
            "/usr/local/lib/python3.7/dist-packages/tensorflow/python/util/dispatch.py:1082: UserWarning: \"`sparse_categorical_crossentropy` received `from_logits=True`, but the `output` argument was produced by a sigmoid or softmax activation and thus does not represent logits. Was this intended?\"\n",
            "  return dispatch_target(*args, **kwargs)\n"
          ]
        },
        {
          "name": "stdout",
          "output_type": "stream",
          "text": [
            "164/164 [==============================] - 15s 7ms/step - loss: 2.4308 - accuracy: 0.2125 - val_loss: 1.7282 - val_accuracy: 0.3904\n",
            "Epoch 2/23\n",
            "164/164 [==============================] - 1s 4ms/step - loss: 1.7612 - accuracy: 0.3612 - val_loss: 1.5031 - val_accuracy: 0.4539\n",
            "Epoch 3/23\n",
            "164/164 [==============================] - 1s 4ms/step - loss: 1.5764 - accuracy: 0.4252 - val_loss: 1.3994 - val_accuracy: 0.5186\n",
            "Epoch 4/23\n",
            "164/164 [==============================] - 1s 4ms/step - loss: 1.4663 - accuracy: 0.4632 - val_loss: 1.3265 - val_accuracy: 0.5363\n",
            "Epoch 5/23\n",
            "164/164 [==============================] - 1s 4ms/step - loss: 1.3860 - accuracy: 0.5019 - val_loss: 1.2640 - val_accuracy: 0.5655\n",
            "Epoch 6/23\n",
            "164/164 [==============================] - 1s 4ms/step - loss: 1.3078 - accuracy: 0.5330 - val_loss: 1.2153 - val_accuracy: 0.5873\n",
            "Epoch 7/23\n",
            "164/164 [==============================] - 1s 4ms/step - loss: 1.2342 - accuracy: 0.5743 - val_loss: 1.1087 - val_accuracy: 0.6468\n",
            "Epoch 8/23\n",
            "164/164 [==============================] - 1s 4ms/step - loss: 1.1834 - accuracy: 0.5855 - val_loss: 1.0537 - val_accuracy: 0.6571\n",
            "Epoch 9/23\n",
            "164/164 [==============================] - 1s 4ms/step - loss: 1.1016 - accuracy: 0.6178 - val_loss: 1.0007 - val_accuracy: 0.6732\n",
            "Epoch 10/23\n",
            "164/164 [==============================] - 1s 4ms/step - loss: 1.0547 - accuracy: 0.6338 - val_loss: 0.9783 - val_accuracy: 0.6812\n",
            "Epoch 11/23\n",
            "164/164 [==============================] - 1s 4ms/step - loss: 1.0099 - accuracy: 0.6543 - val_loss: 0.9197 - val_accuracy: 0.7069\n",
            "Epoch 12/23\n",
            "164/164 [==============================] - 1s 4ms/step - loss: 0.9787 - accuracy: 0.6716 - val_loss: 0.9232 - val_accuracy: 0.7052\n",
            "Epoch 13/23\n",
            "164/164 [==============================] - 1s 4ms/step - loss: 0.9372 - accuracy: 0.6837 - val_loss: 0.9136 - val_accuracy: 0.6915\n",
            "Epoch 14/23\n",
            "164/164 [==============================] - 1s 4ms/step - loss: 0.9129 - accuracy: 0.6938 - val_loss: 0.8571 - val_accuracy: 0.7172\n",
            "Epoch 15/23\n",
            "164/164 [==============================] - 1s 4ms/step - loss: 0.8670 - accuracy: 0.7102 - val_loss: 0.8296 - val_accuracy: 0.7373\n",
            "Epoch 16/23\n",
            "164/164 [==============================] - 1s 4ms/step - loss: 0.8389 - accuracy: 0.7201 - val_loss: 0.8061 - val_accuracy: 0.7430\n",
            "Epoch 17/23\n",
            "164/164 [==============================] - 1s 4ms/step - loss: 0.8321 - accuracy: 0.7251 - val_loss: 0.8024 - val_accuracy: 0.7430\n",
            "Epoch 18/23\n",
            "164/164 [==============================] - 1s 7ms/step - loss: 0.7951 - accuracy: 0.7352 - val_loss: 0.8114 - val_accuracy: 0.7521\n",
            "Epoch 19/23\n",
            "164/164 [==============================] - 1s 6ms/step - loss: 0.7453 - accuracy: 0.7493 - val_loss: 0.8126 - val_accuracy: 0.7350\n",
            "Epoch 20/23\n",
            "164/164 [==============================] - 1s 7ms/step - loss: 0.7377 - accuracy: 0.7526 - val_loss: 0.8299 - val_accuracy: 0.7355\n",
            "Epoch 21/23\n",
            "164/164 [==============================] - 1s 5ms/step - loss: 0.7239 - accuracy: 0.7566 - val_loss: 0.7486 - val_accuracy: 0.7607\n",
            "Epoch 22/23\n",
            "164/164 [==============================] - 1s 4ms/step - loss: 0.6888 - accuracy: 0.7665 - val_loss: 0.7571 - val_accuracy: 0.7602\n",
            "Epoch 23/23\n",
            "164/164 [==============================] - 1s 4ms/step - loss: 0.6711 - accuracy: 0.7761 - val_loss: 0.7437 - val_accuracy: 0.7613\n"
          ]
        }
      ],
      "source": [
        "model.compile(optimizer=\"adam\", loss=tf.keras.losses.SparseCategoricalCrossentropy(from_logits=True), metrics=[\"accuracy\"])\n",
        "\n",
        "results = model.fit(x_train, y_train, epochs=23, validation_data=(x_val, y_val))"
      ]
    },
    {
      "cell_type": "code",
      "execution_count": 13,
      "metadata": {
        "colab": {
          "base_uri": "https://localhost:8080/",
          "height": 282
        },
        "id": "-Bd66BWoMY-a",
        "outputId": "bb43b0d6-00b2-4502-c59f-c07ec72505d7"
      },
      "outputs": [
        {
          "data": {
            "image/png": "[encoded data removed]",
            "text/plain": [
              "<Figure size 432x288 with 1 Axes>"
            ]
          },
          "metadata": {
            "needs_background": "light"
          },
          "output_type": "display_data"
        }
      ],
      "source": [
        "plt.plot(results.history['accuracy'], label='Train')\n",
        "plt.plot(results.history['val_accuracy'], label='Test')\n",
        "\n",
        "plt.ylabel('Loss')\n",
        "plt.xlabel('Epoch')\n",
        "plt.legend()\n",
        "\n",
        "plt.show()"
      ]
    },
    {
      "cell_type": "code",
      "execution_count": 11,
      "metadata": {
        "colab": {
          "base_uri": "https://localhost:8080/",
          "height": 281
        },
        "id": "MyZ-aik6MtH-",
        "outputId": "530da5d7-becb-4cd0-f7bb-48f6239dcbf0"
      },
      "outputs": [
        {
          "data": {
            "image/png": "[encoded data removed]",
            "text/plain": [
              "<Figure size 432x288 with 1 Axes>"
            ]
          },
          "metadata": {
            "needs_background": "light"
          },
          "output_type": "display_data"
        }
      ],
      "source": [
        "plt.plot(results.history['loss'], label='Train')\n",
        "plt.plot(results.history['val_loss'], label='Test')\n",
        "\n",
        "plt.ylabel('Loss')\n",
        "plt.xlabel('Epoch')\n",
        "plt.legend()\n",
        "\n",
        "plt.show()"
      ]
    },
    {
      "cell_type": "code",
      "execution_count": 12,
      "metadata": {
        "colab": {
          "base_uri": "https://localhost:8080/"
        },
        "id": "bePCPpTPRY1H",
        "outputId": "37187215-7426-4d8f-e644-7b421534d18e"
      },
      "outputs": [
        {
          "name": "stdout",
          "output_type": "stream",
          "text": [
            "[0.7110801339149475, 0.7681739926338196]\n"
          ]
        },
        {
          "name": "stderr",
          "output_type": "stream",
          "text": [
            "/usr/local/lib/python3.7/dist-packages/tensorflow/python/util/dispatch.py:1082: UserWarning: \"`sparse_categorical_crossentropy` received `from_logits=True`, but the `output` argument was produced by a sigmoid or softmax activation and thus does not represent logits. Was this intended?\"\n",
            "  return dispatch_target(*args, **kwargs)\n"
          ]
        }
      ],
      "source": [
        "test_result = model.test_on_batch(x_test, y_test)\n",
        "\n",
        "print(test_result)"
      ]
    }
  ],
  "metadata": {
    "accelerator": "GPU",
    "colab": {
      "collapsed_sections": [],
      "include_colab_link": true,
      "provenance": []
    },
    "kernelspec": {
      "display_name": "Python 3.10.7 64-bit (microsoft store)",
      "language": "python",
      "name": "python3"
    },
    "language_info": {
      "name": "python",
      "version": "3.10.7"
    },
    "vscode": {
      "interpreter": {
        "hash": "a515472ba9c32efc2a12c03d4c6c58e04ab9ea4b49320146ba155e55e258d487"
      }
    }
  },
  "nbformat": 4,
  "nbformat_minor": 0
}
